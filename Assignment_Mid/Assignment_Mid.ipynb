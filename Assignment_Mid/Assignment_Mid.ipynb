{
 "cells": [
  {
   "cell_type": "markdown",
   "metadata": {
    "id": "C5c8cD7rb-hy"
   },
   "source": [
    "\n",
    "**Mid-sem Exam (14 Mar 2023  2-4pm)**\n",
    "    "
   ]
  },
  {
   "cell_type": "markdown",
   "metadata": {
    "id": "Vyg8eDyUmoMv"
   },
   "source": [
    "**General instructions**\n",
    "\n",
    "* Solutions are to be typed in the `.ipynb` file provided and uploaded in the lab course page in Moodle before 4pm. \n",
    "* Your code should be well commented and should be compatible with python3.\n"
   ]
  },
  {
   "cell_type": "markdown",
   "metadata": {
    "id": "-3kDhLaTJ0__"
   },
   "source": [
    "# Monty Hall Game (4 marks)"
   ]
  },
  {
   "cell_type": "markdown",
   "metadata": {
    "id": "nOh55kqYJ-7v"
   },
   "source": [
    "Recall the Monty Hall game discussed in Assignment 1. Consider the variant of the game where there are $n$ boxes with $n \\geq 3$ and the host reveals the contents of $n-2$ boxes. Is it to your advantage to switch your choice in order to get the gift? How does this advantage change with $n$?\n"
   ]
  },
  {
   "cell_type": "code",
   "execution_count": 4,
   "metadata": {},
   "outputs": [
    {
     "name": "stdout",
     "output_type": "stream",
     "text": [
      "Enter n : 20\n",
      "0.955 is the winning probability after switching\n"
     ]
    }
   ],
   "source": [
    "import random\n",
    "n = int(input(\"Enter n : \"))\n",
    "count = 0    #this variable will be used to find probability\n",
    "l = range(1, n+1)    #this is a list consisting 1, 2, 3 as elements\n",
    "for i in range(1000):     #making all the iterations\n",
    "    ans = random.randint(1, n)    #randomly choosing where the gift will be\n",
    "    a = 1    #this is the X chosen by the player\n",
    "    host = []\n",
    "    for i in l:\n",
    "        if(i!= ans and i!= a):\n",
    "            host.append(i)\n",
    "        if(len(host)==n-2):\n",
    "            break\n",
    "    new = []\n",
    "    for i in l:\n",
    "        if(i not in host):\n",
    "            new.append(i)\n",
    "    a = random.choice([x for x in new if x != a])    #switching to the box that is not selected by the host\n",
    "    if(a == ans):    #count will increase if the condition satisfies\n",
    "        count += 1\n",
    "print(str(count/1000) + \" is the winning probability after switching\")    #printing the probability\n"
   ]
  },
  {
   "cell_type": "markdown",
   "metadata": {
    "id": "z4Iw87TpH5Cb"
   },
   "source": [
    "# Area and $\\pi$ Estimation (6 marks)"
   ]
  },
  {
   "cell_type": "markdown",
   "metadata": {
    "id": "TIuvN4RFH8ro"
   },
   "source": [
    "(a) Write a function `generatePoint(m,n)` that takes as arguments two integers $m$, $n$ and returns a pair of numbers $(x,y)$ such that $x,y \\in_R [m,n]$. Here, $[m,n]$ denotes the set of all real numbers between $m$ and $n$ (including $m$ and $n$) and $x,y \\in_R [m,n]$ denotes that both $x$ and $y$ are picked uniformly at random from $[m,n]$.  "
   ]
  },
  {
   "cell_type": "code",
   "execution_count": 49,
   "metadata": {},
   "outputs": [
    {
     "data": {
      "text/plain": [
       "[4.754751243893748, 4.969984066022594]"
      ]
     },
     "execution_count": 49,
     "metadata": {},
     "output_type": "execute_result"
    }
   ],
   "source": [
    "import random\n",
    "def generatePoint(m, n):\n",
    "    a = random.random()\n",
    "    b = random.random()\n",
    "    return [m+(n-m)*a, m+(n-m)*b]\n",
    "m = 3\n",
    "n = 7\n",
    "generatePoint(m, n)"
   ]
  },
  {
   "cell_type": "markdown",
   "metadata": {
    "id": "MW5l8Zy9uLP0"
   },
   "source": [
    "(b) Each point $(x,y)$ returned by `generatePoint(0,1)` may be interpreted as a point chosen at random from the unit square whose bottom left vertex is $(0,0)$. Write a function that estimates the area of the region under the curve $y=x^2$ in this unit square. "
   ]
  },
  {
   "cell_type": "code",
   "execution_count": 50,
   "metadata": {},
   "outputs": [
    {
     "name": "stdout",
     "output_type": "stream",
     "text": [
      "0.333497\n"
     ]
    }
   ],
   "source": [
    "tests = 1000000\n",
    "count = 0\n",
    "for i in range(tests):\n",
    "    x, y = generatePoint(0, 1)\n",
    "    if y < x*x :\n",
    "        count += 1\n",
    "print(count/tests)"
   ]
  },
  {
   "cell_type": "markdown",
   "metadata": {
    "id": "lAZIyE9huqZq"
   },
   "source": [
    "(c) Write a function that estimates the value of $\\pi$ using `generatePoint(0,1)`. Hint: you may want to estimate the area of the circle with center $(1/2,1/2)$ and radius $1/2$."
   ]
  },
  {
   "cell_type": "code",
   "execution_count": 52,
   "metadata": {},
   "outputs": [
    {
     "name": "stdout",
     "output_type": "stream",
     "text": [
      "3.142984\n"
     ]
    }
   ],
   "source": [
    "tests = 1000000\n",
    "count = 0\n",
    "for i in range(tests):\n",
    "    x, y = generatePoint(0, 1)\n",
    "    if (x*x + y*y - x - y + 0.25) < 0 :\n",
    "        count += 1\n",
    "print(4*(count/tests))"
   ]
  },
  {
   "cell_type": "markdown",
   "metadata": {
    "id": "mpgxORvJgTm3"
   },
   "source": [
    "# Erdős Number Computation (10 marks)"
   ]
  },
  {
   "cell_type": "markdown",
   "metadata": {
    "id": "AZ2iGaPsNQCM"
   },
   "source": [
    "The Erdős number of a scientist $X$ describes the \"collaborative distance\" between the mathematician Paul Erdős and $X$. Paul Erdős himself is assigned an Erdős number of zero. Scientists who have coauthored a research paper with Erdős have Erdős number 1, scientists who have collaborated with scientists having Erdős number 1 but not with Erdős have an Erdős number of 2, and so on. That is, a scientist has a finite Erdős number, say $i \\geq 1$, if and only if she has collaborated with a scientist having Erdős number $i-1$ but not with anyone who has an Erdős number less than $i-1$. \n",
    "\n",
    "Write  a program that takes a csv file as input and displays the Erdős number of all scientists in it. Each line in the csv file is of the form Scientist 1,Scientist 2 indicating that these two scientists have collaborated. Example: The entry `Alon,Erdos` indicates that Erdős and Alon have a research paper together. You may use the following code block to read from a csv file.\n",
    "\n",
    "```\n",
    "import csv\n",
    "\n",
    "with open('collab.csv') as csvfile:\n",
    "    csvreader = csv.reader(csvfile)\n",
    "```\n",
    "Here, `with open('collab.csv') as csvfile:` opens the CSV file named `collab.csv` and creates a file object named csvfile. The with statement ensures that the file is properly closed after the code block completes or in case of an error.\n",
    "`csvreader = csv.reader(csvfile)` creates a CSV reader object named `csvreader` which can be used to iterate over the rows of the CSV file. For example, \n",
    "```\n",
    "for row in csvreader: \n",
    "```\n",
    "iterates over each row in the CSV file Each row is treated as a list of strings representing the columns in the CSV file. That is, `row[0]` denotes the first column and `row[1]` denotes the second column."
   ]
  },
  {
   "cell_type": "code",
   "execution_count": 5,
   "metadata": {},
   "outputs": [
    {
     "name": "stdout",
     "output_type": "stream",
     "text": [
      "AHARONI : 15\n",
      "ALAN HARTMAN : 49\n",
      "ALON : 1\n",
      "BABAI : 1\n",
      "BOLLOBAS : 1\n",
      "BONDY : 1\n",
      "BURR : 1\n",
      "CHARLES LINDNER : 49\n",
      "CHRISTOPHER RODGER : 51\n",
      "CHVATAL : 1\n",
      "COLBOURN : 22\n",
      "DEAN HOFFMAN : 57\n",
      "DONALD KREHER : 49\n",
      "DUKE : 1\n",
      "ELIZABETH BILLINGTON : 61\n",
      "ENOLA : 55\n",
      "ERDOS : 0\n",
      "ERIC MENDELSOHN : 49\n",
      "FAN CHUNG : 1\n",
      "FAUDREE : 1\n",
      "FRANKL : 2\n",
      "FUREDI : 1\n",
      "GIL KALAI : 2\n",
      "GRAHAM BRIGHTWELL : 4\n",
      "GYARFAS : 1\n",
      "HAJNAL : 1\n",
      "HARARY : 4\n",
      "HARRY : 75\n",
      "HELL : 4\n",
      "HERMIONE : 75\n",
      "HORAK : 30\n",
      "JAN KRATOCHVIL : 30\n",
      "JEFFRY KAHN : 11\n",
      "JIRI MATOUSEK : 22\n",
      "KATHERINE HEINRICH : 39\n",
      "KLEITMAN : 1\n",
      "KOHAYAKAWA : 4\n",
      "KOMJATH : 1\n",
      "KOMLOS : 1\n",
      "KOSTOCHKA : 21\n",
      "LIE ZHU-2 : 49\n",
      "LINIAL : 2\n",
      "LOVASZ : 1\n",
      "LUCZAK : 1\n",
      "MARTIN LOEBL : 36\n",
      "MILNER : 1\n",
      "MULLIN : 57\n",
      "NESETRIL : 3\n",
      "PACH : 1\n",
      "PENNY HAXELL : 18\n",
      "PHELPS : 22\n",
      "PYBER : 1\n",
      "RALPH STANTON : 57\n",
      "RODL : 1\n",
      "ROLF REES : 57\n",
      "RON GRAHAM : 1\n",
      "ROSA : 39\n",
      "SAKS : 14\n",
      "SAUER : 4\n",
      "SHELAH : 1\n",
      "SHERLOCK : 32\n",
      "SIMONOVITS : 1\n",
      "SOS : 1\n",
      "SPENCER : 1\n",
      "STINSON : 49\n",
      "SVATOPLUK POLJAK : 22\n",
      "SZEMEREDI : 1\n",
      "THOMASSEN : 4\n",
      "TROTTER : 1\n",
      "TUZA : 1\n",
      "VANSTONE : 49\n",
      "WALTER WALLIS : 38\n",
      "WEST : 1\n",
      "WINKLER : 4\n",
      "ZZZ : 1\n"
     ]
    }
   ],
   "source": [
    "import csv\n",
    "\n",
    "with open('collab.csv') as csvfile:\n",
    "    csvreader = csv.reader(csvfile)\n",
    "    sci = []\n",
    "    dictionary = {}\n",
    "    for row in csvreader:\n",
    "        if row[0] not in sci:\n",
    "            dictionary[row[0]] = []\n",
    "            sci.append(row[0])\n",
    "        dictionary[row[0]].append(row[1])\n",
    "    visited = ['ERDOS']    #once we have got the dictionary, we implement bfs and store the depth of each node in a new dictionary\n",
    "    queue = ['ERDOS']\n",
    "    depth = {}\n",
    "    for i in range(len(sci)):    #initialising the depth to max value possible\n",
    "        depth[sci[i]] = len(sci)\n",
    "    parent = {}\n",
    "    d = 0\n",
    "    depth['ERDOS'] = 0    #giving 0 depth to erdos\n",
    "    while queue:\n",
    "        node = queue.pop(0)\n",
    "        for neighbor in dictionary[node]:\n",
    "            if neighbor not in visited:\n",
    "                if depth[neighbor] > d + 1:    #if depth is smaller, we update it\n",
    "                    depth[neighbor] = d + 1\n",
    "                visited.append(neighbor)\n",
    "                queue.append(neighbor)\n",
    "        d += 1    #increasing the depth after each new level is explored\n",
    "        if(d>len(sci)):    #if the depth is greater than the number of scientists, break the search\n",
    "            break\n",
    "    for key in depth.keys():    #printing the result\n",
    "        print(key, \":\", depth[key])"
   ]
  },
  {
   "cell_type": "code",
   "execution_count": null,
   "metadata": {},
   "outputs": [],
   "source": []
  }
 ],
 "metadata": {
  "colab": {
   "provenance": []
  },
  "kernelspec": {
   "display_name": "Python 3",
   "language": "python",
   "name": "python3"
  },
  "language_info": {
   "codemirror_mode": {
    "name": "ipython",
    "version": 3
   },
   "file_extension": ".py",
   "mimetype": "text/x-python",
   "name": "python",
   "nbconvert_exporter": "python",
   "pygments_lexer": "ipython3",
   "version": "3.7.4"
  }
 },
 "nbformat": 4,
 "nbformat_minor": 1
}
