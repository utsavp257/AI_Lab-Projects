{
 "cells": [
  {
   "cell_type": "markdown",
   "id": "054470c3",
   "metadata": {
    "id": "054470c3"
   },
   "source": [
    "**Assignment 6: Probabilistic Reasoning (Given: 11 Apr 2023, Due: 23 Apr 2023)**\n"
   ]
  },
  {
   "cell_type": "markdown",
   "id": "cae736d5",
   "metadata": {
    "id": "cae736d5"
   },
   "source": [
    "**General instructions**\n",
    "\n",
    "* Solutions are to be typed in the `.ipynb` file provided and uploaded in the lab course page in Moodle on the due date. \n",
    "* Your code should be well commented and should be compatible with python3. You may use `collections`, `csv`, `re`, `numpy`,`matplotlib`, `math` modules. No other libraries may be imported. You may find `Counter` in `collections` useful.\n",
    "* For a random variable `X` and a value `x` in its range, the event `X=x` will also be denoted by just `x` if the random variable is clear from the context."
   ]
  },
  {
   "cell_type": "markdown",
   "id": "dj2rEVV7-Ppm",
   "metadata": {
    "id": "dj2rEVV7-Ppm"
   },
   "source": [
    "# Spam Filter using Naive Bayes Classifier"
   ]
  },
  {
   "cell_type": "markdown",
   "id": "e7c6012c",
   "metadata": {
    "id": "e7c6012c"
   },
   "source": [
    "You are given a collection of SMS text messages in `sms.csv` as a tab separated CSV file. The first column of this file tells whether the message is a spam or not spam and the second column gives the message. Assume that this dataset is labelled correctly as spam or not spam. We  will use this dataset as the training data to build a spam filter. "
   ]
  },
  {
   "cell_type": "markdown",
   "id": "ae76096a",
   "metadata": {
    "id": "ae76096a"
   },
   "source": [
    "(a) Analyze the dataset and identify top ten spam words and top ten non-spam words  and their frequency counts. Make sure that you first remove articles (\"a\", \"and\", \"the\") and <=4 letter propositions (\"for\", \"off\", \"in\", \"from\" and so on).  "
   ]
  },
  {
   "cell_type": "code",
   "execution_count": 12,
   "id": "4692a1e7",
   "metadata": {},
   "outputs": [
    {
     "name": "stdout",
     "output_type": "stream",
     "text": [
      "Top 10 spam words are\n",
      "[('call', 348), ('free', 219), ('txt', 146), ('mobile', 123), ('claim', 113), ('stop', 109), ('text', 105), ('reply', 96), ('www', 96), ('prize', 90)]\n",
      "Top 10 non spam words are\n",
      "[('lt', 315), ('gt', 315), ('get', 298), ('ok', 281), ('go', 244), ('call', 235), ('got', 230), ('know', 230), ('good', 229), ('come', 229)]\n"
     ]
    }
   ],
   "source": [
    "import csv\n",
    "import re\n",
    "from collections import Counter\n",
    "file  = open('sms.csv')         #opening the file\n",
    "csvreader = csv.reader(file, delimiter='\\t')   #using the delimiter as tab\n",
    "rows = []            #storing the info of each row in this list\n",
    "spamID = []          #storing whether any message is spam or not\n",
    "spamInd = []         #indexes of spam messages\n",
    "nspamInd = []        #indexes of not spam messages\n",
    "words = []           #storing all the words\n",
    "unique = []          #storing all the unique words\n",
    "spamwords = []       #storing all the spam words\n",
    "spamunique = []      #storing all the unique words\n",
    "nspamwords = []      #storing all the non spam words\n",
    "nspamunique = []     #storing all the non spam unique words\n",
    "stopwords = ['', 'â', \"you\", \"a\", \"and\", \"the\", 'u','ur','4','1','2','i', 'me', 'my', 'myself', 'we', 'our', 'ours', 'you', 'your', 'yours', 'he', 'him', 'his', 'she', 'her', 'hers', 'it', 'its', 'they', 'them', 'what', 'which', 'who', 'whom', 'this', 'that', 'these', 'those', 'am', 'is', 'are', 'was', 'were', 'be', 'been', 'being', 'have', 'has', 'had', 'having', 'do', 'does', 'did', 'doing', 'a', 'an', 'the', 'and', 'but', 'if', 'or', 'because', 'as', 'until', 'while', 'of', 'at', 'by', 'for', 'with', 'about', 'against', 'between', 'into', 'through', 'during', 'before', 'after', 'above', 'below', 'to', 'from', 'up', 'down', 'in', 'out', 'on', 'off', 'over', 'under', 'again', 'further', 'then', 'once', 'here', 'there', 'when', 'where', 'why', 'how', 'all', 'any', 'both', 'each', 'few', 'more', 'most', 'other', 'some', 'such', 'no', 'nor', 'not', 'only', 'own', 'same', 'so', 'than', 'too', 'very', 's', 't', 'can', 'will', 'just', 'don', 'should', 'now', 'd', 'll', 'm', 'o', 're', 've', 'y', 'ain', 'aren', 'couldn', 'didn', 'doesn', 'hadn', 'hasn', 'haven', 'isn', 'ma', 'mightn', 'mustn', 'needn', 'shan', 'shouldn', 'wasn', 'weren', 'wouldn']\n",
    "for row in csvreader:\n",
    "    rows.append(row)\n",
    "for row in rows:\n",
    "    row[1] = row[1].lower()\n",
    "    temp = re.split(r'\\W+', row[1] )\n",
    "    for word in temp:     #storing the words\n",
    "        if word not in stopwords:\n",
    "            words.append(word)\n",
    "    for word in temp:     #storing all the unique words\n",
    "        if word not in stopwords:\n",
    "            if word not in unique:\n",
    "                unique.append(word)\n",
    "    if row[0] == \"spam\":           #0 indicates spam\n",
    "        spamID.append(0)\n",
    "        spamInd.append(rows.index(row))\n",
    "        for word in temp:\n",
    "            if word not in stopwords:\n",
    "                spamwords.append(word)\n",
    "        for word in temp:\n",
    "            if word not in stopwords:\n",
    "                if word not in spamunique:\n",
    "                    spamunique.append(word)\n",
    "    else:                          #1 indiactes not spam\n",
    "        spamID.append(1)\n",
    "        nspamInd.append(rows.index(row))\n",
    "        for word in temp:\n",
    "            if word not in stopwords:\n",
    "                nspamwords.append(word)\n",
    "        for word in temp:\n",
    "            if word not in stopwords:\n",
    "                if word not in nspamunique:\n",
    "                    nspamunique.append(word)\n",
    "\n",
    "#print(spamwords)\n",
    "topspam = Counter(spamwords).most_common(10)     #getting the top 10 spamwords\n",
    "topnspam = Counter(nspamwords).most_common(10)   #getting the top 10 non spam words\n",
    "print(\"Top 10 spam words are\")\n",
    "print(topspam)\n",
    "print(\"Top 10 non spam words are\")\n",
    "print(topnspam)\n"
   ]
  },
  {
   "cell_type": "markdown",
   "id": "dfc9fef6",
   "metadata": {
    "id": "dfc9fef6"
   },
   "source": [
    "(b) Let `W` be the random variable denoting a word and `T` be the random variable denoting a message's type (spam or non-spam). For each of the words `w` (spam or non-spam), estimate the likelihood probabilities (aka the conditional probabilities) `Pr(W = w | T=spam)` and `Pr(W=w | T=non-spam)` as two separate functions. Note  that in order to compute these likelihoods this, you need to compute how many times `w` appears in the corpus (spam or not spam) and the total number of words (including duplicates) in that corpus. If a word does not occur at all, then assign it a non-zero yet small probability fixed suitably. Note that the likelihoods `Pr(w | spam)` and `Pr(w | non-spam)` have to be estimated after suitably removing articles and propositions as done in (a). "
   ]
  },
  {
   "cell_type": "code",
   "execution_count": 13,
   "id": "b24dc2bb",
   "metadata": {},
   "outputs": [],
   "source": [
    "def Pspam(w):           #probability for spam for each word\n",
    "    if w in spamwords:\n",
    "        return len(spamwords)/len(unique)\n",
    "    else:\n",
    "        return 1/len(words)\n",
    "def Pnotspam(w):           #probability for not spam for each word\n",
    "    if w in nspamwords:\n",
    "        return len(nspamwords)/len(unique)\n",
    "    else:\n",
    "        return 1/len(words)"
   ]
  },
  {
   "cell_type": "markdown",
   "id": "1066d1ef",
   "metadata": {
    "id": "1066d1ef"
   },
   "source": [
    "(c) Let `M` be the random variable denoting a message (consisting of multiple words). Using the likelihood probabilities calculated in (b), implement a classifier that takes in a new SMS message `m=w1 w2 ... wi` and checks if it is spam or not using the naive Bayes' assumption. That is, compute `P(T=spam | M=m)` and `P(T=non-spam | M=m)` assuming that `P(m | spam) = P(w1 | spam) x P(w2 | spam) x ... x P(wi | spam)` and use this computation to decide if `m` is spam or not. "
   ]
  },
  {
   "cell_type": "code",
   "execution_count": 14,
   "id": "20dd434a",
   "metadata": {},
   "outputs": [
    {
     "name": "stdout",
     "output_type": "stream",
     "text": [
      "spam\n"
     ]
    }
   ],
   "source": [
    "def classifier(M):\n",
    "    msgw = re.split(r'\\W+', M)\n",
    "    ps = 1\n",
    "    pns = 1\n",
    "    for i in range(len(msgw)):\n",
    "        ps *= Pspam(msgw[i])\n",
    "        pns *= Pnotspam(msgw[i])\n",
    "    pSpam = len(spamInd)/len(spamID)       #based on number of spam messages\n",
    "    pNotSpam = 1 - pSpam\n",
    "    pSpGivenM = pSpam*(ps/((ps*pSpam)+(pns*pNotSpam)))          #bayes rule\n",
    "    pNotSpGivenM = pNotSpam*(pns/((ps*pSpam)+(pns*pNotSpam)))\n",
    "    if pSpGivenM > pNotSpGivenM:   #printing the result\n",
    "        print(\"spam\")\n",
    "    else:\n",
    "        print(\"not spam\")\n",
    "classifier(\"You are a winner U have been specially selected 2 receive Â£1000 or a 4* holiday (flights inc) speak to a live operator 2 claim 0871277810910p/min (18+) \")"
   ]
  },
  {
   "cell_type": "markdown",
   "id": "3db0d429",
   "metadata": {
    "id": "3db0d429"
   },
   "source": [
    "(d) Test your classifier against 4-5 SMS messages (spam as well as non-spam) that you have received in your mobile phone."
   ]
  },
  {
   "cell_type": "code",
   "execution_count": 16,
   "id": "95920f00",
   "metadata": {},
   "outputs": [
    {
     "name": "stdout",
     "output_type": "stream",
     "text": [
      "not spam\n",
      "not spam\n",
      "not spam\n",
      "spam\n",
      "not spam\n"
     ]
    }
   ],
   "source": [
    "messages = []\n",
    "messages.append(\"Dear customer, As an appreciation for being an HDFC Bank customer, you can take advantage of new Credit Card without documentation.Check here: hdfcbk.io/a/oBXL4GVw\")\n",
    "messages.append(\"Congrats ! Get annual savings worth Rs. 12000 on your pre-approved Bajaj Finserv RBL Bank Credit card. Avail now v.db1.in/a7XZ40 SRIBALAJI\")\n",
    "messages.append(\"Congratulation! You are eligible for IDFC Bank Credit Card LIFE TIME FREE With limit upto 5 Lakhs.T&C Applied. Apply Now v.db1.in/9XXMyP SRIBALJI\")\n",
    "messages.append(\"Dear User, You’ve earned RummyCircle 100% Welcome Bonus upto Rs 3000* on Specials. Click on https://t.jio/winnings-RUMCPS to claim your coupon! T&C Team JioCoupon\")\n",
    "messages.append(\"Register free for AAKASH ANTHE for upto 100% Scholarship & Win a trip to NASA* Eligibility: Class 7 - 12 Online Exam from Home! Apply@ bit.ly/3QHRhR2 MOTACH\")\n",
    "for i in range(5):\n",
    "    classifier(messages[i])"
   ]
  },
  {
   "cell_type": "markdown",
   "id": "RMdW5tjzvC1c",
   "metadata": {
    "id": "RMdW5tjzvC1c"
   },
   "source": [
    "# Binary Town Naive Bayes Classifier  "
   ]
  },
  {
   "cell_type": "markdown",
   "id": "ZPjV7QmPds6R",
   "metadata": {
    "id": "ZPjV7QmPds6R"
   },
   "source": [
    "Consider a town that contains only kids and adults. Each person in this town is associated with two attributes, height and weight that take on values from $\\mathbb{R}$. Assume that the attributes height and weight are conditionally independent given the category (adult or kid). Let $X$ be the random variable denoting a pair of height-weight values and $Y$ be the random variable denoting a person in this town. Let $X_1$ and $X_2$ denote the random variables that take as values $x_1$ and $x_2$ when $X=(x_1,x_2)$.  Assume that $Y$ is a binary random variable that takes on values $kid=0$ or $adult=1$ depending on whether the person is a kid or an adult. The probability that a random person in this town is a kid is given by $P(Y=kid)=pKid$ and the probability that a random person in this town is an adult is given by $P(Y=adult)=pAdult=1-pKid$.\n",
    "\n",
    "The conditional probability of height and weight given that a person is a kid or adult is given as follows. For $x=(x_1,x_2) \\in \\mathbb{R}^2$ with $x_1$ denoting the height and $x_2$ denoting the weight,\n",
    "\n",
    "*   $P(X_1=x_1 ~|~ Y=kid)=f_{\\mu_{11},\\sigma_{11}}(x_1)$ and $P(X_2=x_2 ~|~ Y=kid)=f_{\\mu_{12},\\sigma_{12}}(x_2)$\n",
    "*   $P(X_1=x_1 ~|~ Y=adult)=f_{\\mu_{21},\\sigma_{21}}(x_1)$ and $P(X_2=x_2 ~|~ Y=adult)=f_{\\mu_{22},\\sigma_{22}}(x_2)$\n",
    " \n",
    "where $f_{\\mu,\\sigma}(z)=\\frac{1}{\\sqrt{2\\pi} \\sigma} e^{-\\frac{1}{2} \\left( \\frac{z-\\mu}{\\sigma} \\right)^2}$. As height and weight are conditionally independent given the category, it follows that $P(X=x ~|~ Y=kid)=f_{\\mu_{11},\\sigma_{11}}(x_1) f_{\\mu_{12},\\sigma_{12}}(x_2)$ and $P(X=x ~|~ Y=adult)=f_{\\mu_{21},\\sigma_{21}}(x_1) f_{\\mu_{22},\\sigma_{22}}(x_2)$.\n"
   ]
  },
  {
   "cell_type": "markdown",
   "id": "1k2KIleIoYZ0",
   "metadata": {
    "id": "1k2KIleIoYZ0"
   },
   "source": [
    "(a) Simulate 1000 people in this town assuming $pKid=.3$, $\\sigma_{11}=\\sigma_{21}=1$, $\\sigma_{12}=\\sigma_{22}=10$, $\\mu_{11}=2.7,\\mu_{12}=20,\\mu_{21}=5,\\mu_{22}=43$. Note that you may have to discard a  sample $(x_1,x_2)$ if either $x_1 <0$ or $x_2 <0$. Plot the bar chart of the valid samples, the histogram of heights across the groups, the histogram of weights across the groups and the scatter plot of the samples (height in the X-axis and weight in the Y-axis). "
   ]
  },
  {
   "cell_type": "code",
   "execution_count": 17,
   "id": "e28051b7",
   "metadata": {},
   "outputs": [
    {
     "name": "stdout",
     "output_type": "stream",
     "text": [
      "283\n",
      "709\n",
      "992\n"
     ]
    },
    {
     "ename": "TypeError",
     "evalue": "only size-1 arrays can be converted to Python scalars",
     "output_type": "error",
     "traceback": [
      "\u001b[1;31m---------------------------------------------------------------------------\u001b[0m",
      "\u001b[1;31mTypeError\u001b[0m                                 Traceback (most recent call last)",
      "Input \u001b[1;32mIn [17]\u001b[0m, in \u001b[0;36m<cell line: 48>\u001b[1;34m()\u001b[0m\n\u001b[0;32m     46\u001b[0m plt\u001b[38;5;241m.\u001b[39mfigure(figsize\u001b[38;5;241m=\u001b[39m(\u001b[38;5;241m20\u001b[39m,\u001b[38;5;241m10\u001b[39m))\n\u001b[0;32m     47\u001b[0m \u001b[38;5;66;03m#plt.bar(range(len(khts)+1,len(ahts)+1),ahts,color=\"orange\",label='adults')\u001b[39;00m\n\u001b[1;32m---> 48\u001b[0m \u001b[43mplt\u001b[49m\u001b[38;5;241;43m.\u001b[39;49m\u001b[43mbar\u001b[49m\u001b[43m(\u001b[49m\u001b[38;5;28;43mrange\u001b[39;49m\u001b[43m(\u001b[49m\u001b[38;5;241;43m1\u001b[39;49m\u001b[43m,\u001b[49m\u001b[38;5;28;43mlen\u001b[39;49m\u001b[43m(\u001b[49m\u001b[43mkhts\u001b[49m\u001b[43m)\u001b[49m\u001b[38;5;241;43m+\u001b[39;49m\u001b[38;5;241;43m1\u001b[39;49m\u001b[43m)\u001b[49m\u001b[43m,\u001b[49m\u001b[43mkhts\u001b[49m\u001b[43m,\u001b[49m\u001b[43mcolor\u001b[49m\u001b[38;5;241;43m=\u001b[39;49m\u001b[38;5;124;43m\"\u001b[39;49m\u001b[38;5;124;43mblue\u001b[39;49m\u001b[38;5;124;43m\"\u001b[39;49m\u001b[43m,\u001b[49m\u001b[43mlabel\u001b[49m\u001b[38;5;241;43m=\u001b[39;49m\u001b[38;5;124;43m'\u001b[39;49m\u001b[38;5;124;43mkids\u001b[39;49m\u001b[38;5;124;43m'\u001b[39;49m\u001b[43m)\u001b[49m\n\u001b[0;32m     49\u001b[0m plt\u001b[38;5;241m.\u001b[39mxlabel(\u001b[38;5;124m\"\u001b[39m\u001b[38;5;124mPeople in the town\u001b[39m\u001b[38;5;124m\"\u001b[39m)\n\u001b[0;32m     50\u001b[0m plt\u001b[38;5;241m.\u001b[39mylabel(\u001b[38;5;124m\"\u001b[39m\u001b[38;5;124mHeight of the people\u001b[39m\u001b[38;5;124m\"\u001b[39m)\n",
      "File \u001b[1;32mD:\\Python\\lib\\site-packages\\matplotlib\\pyplot.py:2387\u001b[0m, in \u001b[0;36mbar\u001b[1;34m(x, height, width, bottom, align, data, **kwargs)\u001b[0m\n\u001b[0;32m   2383\u001b[0m \u001b[38;5;129m@_copy_docstring_and_deprecators\u001b[39m(Axes\u001b[38;5;241m.\u001b[39mbar)\n\u001b[0;32m   2384\u001b[0m \u001b[38;5;28;01mdef\u001b[39;00m \u001b[38;5;21mbar\u001b[39m(\n\u001b[0;32m   2385\u001b[0m         x, height, width\u001b[38;5;241m=\u001b[39m\u001b[38;5;241m0.8\u001b[39m, bottom\u001b[38;5;241m=\u001b[39m\u001b[38;5;28;01mNone\u001b[39;00m, \u001b[38;5;241m*\u001b[39m, align\u001b[38;5;241m=\u001b[39m\u001b[38;5;124m'\u001b[39m\u001b[38;5;124mcenter\u001b[39m\u001b[38;5;124m'\u001b[39m,\n\u001b[0;32m   2386\u001b[0m         data\u001b[38;5;241m=\u001b[39m\u001b[38;5;28;01mNone\u001b[39;00m, \u001b[38;5;241m*\u001b[39m\u001b[38;5;241m*\u001b[39mkwargs):\n\u001b[1;32m-> 2387\u001b[0m     \u001b[38;5;28;01mreturn\u001b[39;00m gca()\u001b[38;5;241m.\u001b[39mbar(\n\u001b[0;32m   2388\u001b[0m         x, height, width\u001b[38;5;241m=\u001b[39mwidth, bottom\u001b[38;5;241m=\u001b[39mbottom, align\u001b[38;5;241m=\u001b[39malign,\n\u001b[0;32m   2389\u001b[0m         \u001b[38;5;241m*\u001b[39m\u001b[38;5;241m*\u001b[39m({\u001b[38;5;124m\"\u001b[39m\u001b[38;5;124mdata\u001b[39m\u001b[38;5;124m\"\u001b[39m: data} \u001b[38;5;28;01mif\u001b[39;00m data \u001b[38;5;129;01mis\u001b[39;00m \u001b[38;5;129;01mnot\u001b[39;00m \u001b[38;5;28;01mNone\u001b[39;00m \u001b[38;5;28;01melse\u001b[39;00m {}), \u001b[38;5;241m*\u001b[39m\u001b[38;5;241m*\u001b[39mkwargs)\n",
      "File \u001b[1;32mD:\\Python\\lib\\site-packages\\matplotlib\\__init__.py:1412\u001b[0m, in \u001b[0;36m_preprocess_data.<locals>.inner\u001b[1;34m(ax, data, *args, **kwargs)\u001b[0m\n\u001b[0;32m   1409\u001b[0m \u001b[38;5;129m@functools\u001b[39m\u001b[38;5;241m.\u001b[39mwraps(func)\n\u001b[0;32m   1410\u001b[0m \u001b[38;5;28;01mdef\u001b[39;00m \u001b[38;5;21minner\u001b[39m(ax, \u001b[38;5;241m*\u001b[39margs, data\u001b[38;5;241m=\u001b[39m\u001b[38;5;28;01mNone\u001b[39;00m, \u001b[38;5;241m*\u001b[39m\u001b[38;5;241m*\u001b[39mkwargs):\n\u001b[0;32m   1411\u001b[0m     \u001b[38;5;28;01mif\u001b[39;00m data \u001b[38;5;129;01mis\u001b[39;00m \u001b[38;5;28;01mNone\u001b[39;00m:\n\u001b[1;32m-> 1412\u001b[0m         \u001b[38;5;28;01mreturn\u001b[39;00m func(ax, \u001b[38;5;241m*\u001b[39m\u001b[38;5;28mmap\u001b[39m(sanitize_sequence, args), \u001b[38;5;241m*\u001b[39m\u001b[38;5;241m*\u001b[39mkwargs)\n\u001b[0;32m   1414\u001b[0m     bound \u001b[38;5;241m=\u001b[39m new_sig\u001b[38;5;241m.\u001b[39mbind(ax, \u001b[38;5;241m*\u001b[39margs, \u001b[38;5;241m*\u001b[39m\u001b[38;5;241m*\u001b[39mkwargs)\n\u001b[0;32m   1415\u001b[0m     auto_label \u001b[38;5;241m=\u001b[39m (bound\u001b[38;5;241m.\u001b[39marguments\u001b[38;5;241m.\u001b[39mget(label_namer)\n\u001b[0;32m   1416\u001b[0m                   \u001b[38;5;129;01mor\u001b[39;00m bound\u001b[38;5;241m.\u001b[39mkwargs\u001b[38;5;241m.\u001b[39mget(label_namer))\n",
      "File \u001b[1;32mD:\\Python\\lib\\site-packages\\matplotlib\\axes\\_axes.py:2395\u001b[0m, in \u001b[0;36mAxes.bar\u001b[1;34m(self, x, height, width, bottom, align, **kwargs)\u001b[0m\n\u001b[0;32m   2392\u001b[0m args \u001b[38;5;241m=\u001b[39m \u001b[38;5;28mzip\u001b[39m(left, bottom, width, height, color, edgecolor, linewidth,\n\u001b[0;32m   2393\u001b[0m            hatch)\n\u001b[0;32m   2394\u001b[0m \u001b[38;5;28;01mfor\u001b[39;00m l, b, w, h, c, e, lw, htch \u001b[38;5;129;01min\u001b[39;00m args:\n\u001b[1;32m-> 2395\u001b[0m     r \u001b[38;5;241m=\u001b[39m \u001b[43mmpatches\u001b[49m\u001b[38;5;241;43m.\u001b[39;49m\u001b[43mRectangle\u001b[49m\u001b[43m(\u001b[49m\n\u001b[0;32m   2396\u001b[0m \u001b[43m        \u001b[49m\u001b[43mxy\u001b[49m\u001b[38;5;241;43m=\u001b[39;49m\u001b[43m(\u001b[49m\u001b[43ml\u001b[49m\u001b[43m,\u001b[49m\u001b[43m \u001b[49m\u001b[43mb\u001b[49m\u001b[43m)\u001b[49m\u001b[43m,\u001b[49m\u001b[43m \u001b[49m\u001b[43mwidth\u001b[49m\u001b[38;5;241;43m=\u001b[39;49m\u001b[43mw\u001b[49m\u001b[43m,\u001b[49m\u001b[43m \u001b[49m\u001b[43mheight\u001b[49m\u001b[38;5;241;43m=\u001b[39;49m\u001b[43mh\u001b[49m\u001b[43m,\u001b[49m\n\u001b[0;32m   2397\u001b[0m \u001b[43m        \u001b[49m\u001b[43mfacecolor\u001b[49m\u001b[38;5;241;43m=\u001b[39;49m\u001b[43mc\u001b[49m\u001b[43m,\u001b[49m\n\u001b[0;32m   2398\u001b[0m \u001b[43m        \u001b[49m\u001b[43medgecolor\u001b[49m\u001b[38;5;241;43m=\u001b[39;49m\u001b[43me\u001b[49m\u001b[43m,\u001b[49m\n\u001b[0;32m   2399\u001b[0m \u001b[43m        \u001b[49m\u001b[43mlinewidth\u001b[49m\u001b[38;5;241;43m=\u001b[39;49m\u001b[43mlw\u001b[49m\u001b[43m,\u001b[49m\n\u001b[0;32m   2400\u001b[0m \u001b[43m        \u001b[49m\u001b[43mlabel\u001b[49m\u001b[38;5;241;43m=\u001b[39;49m\u001b[38;5;124;43m'\u001b[39;49m\u001b[38;5;124;43m_nolegend_\u001b[39;49m\u001b[38;5;124;43m'\u001b[39;49m\u001b[43m,\u001b[49m\n\u001b[0;32m   2401\u001b[0m \u001b[43m        \u001b[49m\u001b[43mhatch\u001b[49m\u001b[38;5;241;43m=\u001b[39;49m\u001b[43mhtch\u001b[49m\u001b[43m,\u001b[49m\n\u001b[0;32m   2402\u001b[0m \u001b[43m        \u001b[49m\u001b[43m)\u001b[49m\n\u001b[0;32m   2403\u001b[0m     r\u001b[38;5;241m.\u001b[39mupdate(kwargs)\n\u001b[0;32m   2404\u001b[0m     r\u001b[38;5;241m.\u001b[39mget_path()\u001b[38;5;241m.\u001b[39m_interpolation_steps \u001b[38;5;241m=\u001b[39m \u001b[38;5;241m100\u001b[39m\n",
      "File \u001b[1;32mD:\\Python\\lib\\site-packages\\matplotlib\\patches.py:727\u001b[0m, in \u001b[0;36mRectangle.__init__\u001b[1;34m(self, xy, width, height, angle, **kwargs)\u001b[0m\n\u001b[0;32m    708\u001b[0m \u001b[38;5;129m@docstring\u001b[39m\u001b[38;5;241m.\u001b[39mdedent_interpd\n\u001b[0;32m    709\u001b[0m \u001b[38;5;28;01mdef\u001b[39;00m \u001b[38;5;21m__init__\u001b[39m(\u001b[38;5;28mself\u001b[39m, xy, width, height, angle\u001b[38;5;241m=\u001b[39m\u001b[38;5;241m0.0\u001b[39m, \u001b[38;5;241m*\u001b[39m\u001b[38;5;241m*\u001b[39mkwargs):\n\u001b[0;32m    710\u001b[0m     \u001b[38;5;124;03m\"\"\"\u001b[39;00m\n\u001b[0;32m    711\u001b[0m \u001b[38;5;124;03m    Parameters\u001b[39;00m\n\u001b[0;32m    712\u001b[0m \u001b[38;5;124;03m    ----------\u001b[39;00m\n\u001b[1;32m   (...)\u001b[0m\n\u001b[0;32m    725\u001b[0m \u001b[38;5;124;03m        %(Patch:kwdoc)s\u001b[39;00m\n\u001b[0;32m    726\u001b[0m \u001b[38;5;124;03m    \"\"\"\u001b[39;00m\n\u001b[1;32m--> 727\u001b[0m     \u001b[38;5;28msuper\u001b[39m()\u001b[38;5;241m.\u001b[39m\u001b[38;5;21m__init__\u001b[39m(\u001b[38;5;241m*\u001b[39m\u001b[38;5;241m*\u001b[39mkwargs)\n\u001b[0;32m    728\u001b[0m     \u001b[38;5;28mself\u001b[39m\u001b[38;5;241m.\u001b[39m_x0 \u001b[38;5;241m=\u001b[39m xy[\u001b[38;5;241m0\u001b[39m]\n\u001b[0;32m    729\u001b[0m     \u001b[38;5;28mself\u001b[39m\u001b[38;5;241m.\u001b[39m_y0 \u001b[38;5;241m=\u001b[39m xy[\u001b[38;5;241m1\u001b[39m]\n",
      "File \u001b[1;32mD:\\Python\\lib\\site-packages\\matplotlib\\patches.py:106\u001b[0m, in \u001b[0;36mPatch.__init__\u001b[1;34m(self, edgecolor, facecolor, color, linewidth, linestyle, antialiased, hatch, fill, capstyle, joinstyle, **kwargs)\u001b[0m\n\u001b[0;32m    104\u001b[0m \u001b[38;5;28mself\u001b[39m\u001b[38;5;241m.\u001b[39mset_fill(fill)\n\u001b[0;32m    105\u001b[0m \u001b[38;5;28mself\u001b[39m\u001b[38;5;241m.\u001b[39mset_linestyle(linestyle)\n\u001b[1;32m--> 106\u001b[0m \u001b[38;5;28;43mself\u001b[39;49m\u001b[38;5;241;43m.\u001b[39;49m\u001b[43mset_linewidth\u001b[49m\u001b[43m(\u001b[49m\u001b[43mlinewidth\u001b[49m\u001b[43m)\u001b[49m\n\u001b[0;32m    107\u001b[0m \u001b[38;5;28mself\u001b[39m\u001b[38;5;241m.\u001b[39mset_antialiased(antialiased)\n\u001b[0;32m    108\u001b[0m \u001b[38;5;28mself\u001b[39m\u001b[38;5;241m.\u001b[39mset_hatch(hatch)\n",
      "File \u001b[1;32mD:\\Python\\lib\\site-packages\\matplotlib\\patches.py:411\u001b[0m, in \u001b[0;36mPatch.set_linewidth\u001b[1;34m(self, w)\u001b[0m\n\u001b[0;32m    408\u001b[0m     \u001b[38;5;28;01mif\u001b[39;00m w \u001b[38;5;129;01mis\u001b[39;00m \u001b[38;5;28;01mNone\u001b[39;00m:\n\u001b[0;32m    409\u001b[0m         w \u001b[38;5;241m=\u001b[39m mpl\u001b[38;5;241m.\u001b[39mrcParams[\u001b[38;5;124m'\u001b[39m\u001b[38;5;124maxes.linewidth\u001b[39m\u001b[38;5;124m'\u001b[39m]\n\u001b[1;32m--> 411\u001b[0m \u001b[38;5;28mself\u001b[39m\u001b[38;5;241m.\u001b[39m_linewidth \u001b[38;5;241m=\u001b[39m \u001b[38;5;28;43mfloat\u001b[39;49m\u001b[43m(\u001b[49m\u001b[43mw\u001b[49m\u001b[43m)\u001b[49m\n\u001b[0;32m    412\u001b[0m \u001b[38;5;66;03m# scale the dash pattern by the linewidth\u001b[39;00m\n\u001b[0;32m    413\u001b[0m offset, ls \u001b[38;5;241m=\u001b[39m \u001b[38;5;28mself\u001b[39m\u001b[38;5;241m.\u001b[39m_us_dashes\n",
      "\u001b[1;31mTypeError\u001b[0m: only size-1 arrays can be converted to Python scalars"
     ]
    },
    {
     "data": {
      "image/png": "[encoded data removed]",
      "text/plain": [
       "<Figure size 1440x720 with 1 Axes>"
      ]
     },
     "metadata": {
      "needs_background": "light"
     },
     "output_type": "display_data"
    }
   ],
   "source": [
    "from numpy.random import choice\n",
    "import numpy as np\n",
    "import matplotlib.pyplot as plt\n",
    "\n",
    "ppl = np.random.choice([0, 1], 1000, p = [0.3, 0.7])\n",
    "\n",
    "hts = []           #lists to store the heights and weights of all people separately and combined\n",
    "wts = []\n",
    "khts = []\n",
    "ahts = []\n",
    "kwts = []\n",
    "awts = []\n",
    "kppl = []\n",
    "for i in range(1000):        #for each person\n",
    "    if ppl[i] == 0:          #if the person is a kid\n",
    "        hk = np.random.normal(2.7, 1, 1)\n",
    "        wk = np.random.normal(20, 10, 1)\n",
    "        if hk < 0 or wk < 0:\n",
    "            continue\n",
    "        else:                #storing the appropriate values\n",
    "            khts.append(hk)\n",
    "            kwts.append(wk)\n",
    "            hts.append(hk)\n",
    "            wts.append(wk)\n",
    "            kppl.append(ppl[i])\n",
    "    else:                    #if the person is an adult\n",
    "        ha = np.random.normal(5, 1, 1)\n",
    "        wa = np.random.normal(43, 10, 1)\n",
    "        if ha < 0 or wa < 0:              \n",
    "            continue\n",
    "        else:                #storing the appropriate values\n",
    "            ahts.append(ha)\n",
    "            awts.append(wa)\n",
    "            hts.append(ha)\n",
    "            wts.append(wa)\n",
    "            kppl.append(ppl[i])\n",
    "print(len(khts))\n",
    "print(len(ahts))\n",
    "print(len(wts))\n",
    "kc = len(khts)\n",
    "ac = len(ahts)\n",
    "\n",
    "# plt.bar(khts, ahts, width = 0.04)\n",
    "# plt.bar(kwts, awts, width = 0.04)\n",
    "\n",
    "# plt.figure(figsize=(20,10))\n",
    "# plt.bar(range(len(khts)+1,len(ahts)+1),ahts,color=\"orange\",label='adults')\n",
    "# plt.bar(range(1,len(khts)+1),khts,color=\"blue\",label='kids')\n",
    "# plt.xlabel(\"People in the town\")\n",
    "# plt.ylabel(\"Height of the people\")\n",
    "# plt.title(\"Heights\")\n",
    "# plt.legend()\n",
    "# plt.show()\n",
    "\n",
    "\n",
    "\n",
    "plt.hist(hts)\n",
    "plt.show()\n",
    "plt.hist(wts)\n",
    "plt.show()\n",
    "plt.scatter(khts,kwts)\n",
    "plt.scatter(ahts,awts)\n",
    "plt.show()"
   ]
  },
  {
   "cell_type": "markdown",
   "id": "dIlnNuzromAV",
   "metadata": {
    "id": "dIlnNuzromAV"
   },
   "source": [
    "(b) Implement an agent that observes the 1000 samples generated in part (a) and computes the fraction $pK$ of kids. Observe that $pK$ is an estimate on $pKid$. Compute the mean and standard deviation of heights and weights for samples that are kids. These values $\\mu'_{11},\\sigma'_{11},\\mu'_{12}$ and $\\sigma'_{12}$ are the estimates for $\\mu_{11},\\sigma_{11},\\mu_{12}$ and $\\sigma_{12}$. Compute similar estimates $\\mu'_{21},\\sigma'_{21},\\mu'_{22}$ and $\\sigma'_{22}$ for $\\mu_{21},\\sigma_{21},\\mu_{22}$ and $\\sigma_{22}$.\n",
    "\n"
   ]
  },
  {
   "cell_type": "code",
   "execution_count": 19,
   "id": "f4814403",
   "metadata": {},
   "outputs": [
    {
     "name": "stdout",
     "output_type": "stream",
     "text": [
      "pk is 0.291\n",
      "2.7038913990308946 0.9929016789852029\n",
      "21.025286207542685 9.620187800650191\n",
      "5.009760103021425 1.0484237478466556\n",
      "43.29386955483487 10.469060957632887\n"
     ]
    }
   ],
   "source": [
    "import numpy as np\n",
    "kc = 0\n",
    "ac = 0\n",
    "for i in range(len(ppl)):    #calculating the value of pK\n",
    "    if ppl[i] == 0:\n",
    "        kc += 1\n",
    "    else:\n",
    "        ac += 1\n",
    "pk = kc/1000\n",
    "\n",
    "u11 = np.mean(khts)    #using numpy library to find the values of mean and standard deviation\n",
    "u12 = np.mean(kwts)\n",
    "u21 = np.mean(ahts)\n",
    "u22 = np.mean(awts)\n",
    "s11 = np.std(khts)\n",
    "s12 = np.std(kwts)\n",
    "s21 = np.std(ahts)\n",
    "s22 = np.std(awts)\n",
    "print(f\"pk is {pk}\")\n",
    "print(u11, s11)\n",
    "print(u12, s12)\n",
    "print(u21, s21)\n",
    "print(u22, s22)"
   ]
  },
  {
   "cell_type": "markdown",
   "id": "bekMZSCIowbt",
   "metadata": {
    "id": "bekMZSCIowbt"
   },
   "source": [
    "(c) Implement an agent that classifies each sample generated in part (a) as kid or adult using the estimates computed in part (b) and Bayes' Rule. That is, the classification of a person with attributes $x=(x_1,x_2)$ into $adult$ or $kid$ is based on the values $pK \\cdot f_{\\mu'_{11},\\sigma'_{11}}(x_1) f_{\\mu'_{12},\\sigma'_{12}}(x_2)$ and $(1-pK) \\cdot f_{\\mu'_{21},\\sigma'_{21}}(x_1) f_{\\mu'_{22},\\sigma'_{22}}(x_2)$. Measure the accuracy of the classifier. Give the scatter plot of the 1000 samples (height in the X-axis and weight in the Y-axis) by coloring the correctly classified ones in one color and the others in another color. \n",
    "\n",
    "\n",
    "\n"
   ]
  },
  {
   "cell_type": "code",
   "execution_count": 21,
   "id": "0ee7d227",
   "metadata": {},
   "outputs": [
    {
     "name": "stdout",
     "output_type": "stream",
     "text": [
      "accuracy is 0.944\n"
     ]
    },
    {
     "data": {
      "image/png": "[encoded data removed]",
      "text/plain": [
       "<Figure size 432x288 with 1 Axes>"
      ]
     },
     "metadata": {
      "needs_background": "light"
     },
     "output_type": "display_data"
    },
    {
     "data": {
      "image/png": "[encoded data removed]",
      "text/plain": [
       "<Figure size 432x288 with 1 Axes>"
      ]
     },
     "metadata": {
      "needs_background": "light"
     },
     "output_type": "display_data"
    }
   ],
   "source": [
    "import numpy as np\n",
    "def bayesGen(x1, x2, ka):      #this function returns the value of f(x1)*f(x2) for height and weight\n",
    "    if ka == 0:\n",
    "        return ((1/(s11*np.sqrt(2*np.pi)))*np.exp(-(x1-u11)**2/(2*s11**2))*(1/(s12*np.sqrt(2*np.pi)))*np.exp(-(x2-u12)**2/(2*s12**2)))\n",
    "    else:\n",
    "        return ((1/(s21*np.sqrt(2*np.pi)))*np.exp(-(x1-u21)**2/(2*s21**2))*(1/(s22*np.sqrt(2*np.pi)))*np.exp(-(x2-u22)**2/(2*s22**2)))\n",
    "# hts wts x1 x2\n",
    "bhts = []\n",
    "bwts = []\n",
    "bkhts = []\n",
    "bkwts = []\n",
    "bahts = []\n",
    "bawts = []\n",
    "accuracy = 0\n",
    "for i in range(len(hts)):\n",
    "    x1 = hts[i]\n",
    "    x2 = wts[i]\n",
    "    pkx = (pk*(bayesGen(x1, x2, 0)))/((pk*(bayesGen(x1, x2, 0)))+((1-pk)*(bayesGen(x1, x2, 1))))       #applying bayes rule\n",
    "    pax = ((1-pk)*(bayesGen(x1, x2, 1)))/((pk*(bayesGen(x1, x2, 0)))+((1-pk)*(bayesGen(x1, x2, 1))))\n",
    "    if pkx >= pax:       #making the prediction as per the value\n",
    "        if kppl[i] == 0:         #if the prediction is correct\n",
    "            accuracy += 1\n",
    "            bhts.append(hts[i])\n",
    "            bwts.append(wts[i])\n",
    "        bkhts.append(hts[i])\n",
    "        bkwts.append(wts[i])\n",
    "    else:\n",
    "        if kppl[i] == 1:          #if the prediction is correct\n",
    "            accuracy += 1\n",
    "            bhts.append(hts[i])\n",
    "            bwts.append(wts[i])\n",
    "        bahts.append(hts[i])\n",
    "        bawts.append(wts[i])\n",
    "\n",
    "print(f\"accuracy is {accuracy/1000}\")\n",
    "plt.scatter(bkhts,bkwts, color = 'orange')\n",
    "plt.scatter(bahts,bawts, color = 'blue')\n",
    "plt.show()\n",
    "plt.scatter(hts,wts,color='blue')\n",
    "plt.scatter(bhts,bwts,color='green')\n",
    "plt.show()"
   ]
  },
  {
   "cell_type": "markdown",
   "id": "zVUArveZBC_p",
   "metadata": {
    "id": "zVUArveZBC_p"
   },
   "source": [
    "# Inferences from Bayes Net (Optional/Bonus)"
   ]
  },
  {
   "cell_type": "markdown",
   "id": "D17OQRc8BQpN",
   "metadata": {
    "id": "D17OQRc8BQpN"
   },
   "source": [
    "In this assignment, we will consider Bayes nets that represent only Boolean variables. Given a text file containing the description of a Bayes net and another text file containing queries on the Bayes net, write a program that will answer these queries. You have to implement two techniques for drawing inference from a Bayes net.\n",
    "\n",
    "\n",
    "*   Exact inference using variable elimination - implement the following functions (i) reduce – retains only those entries in the factor that support the evidences (ii) join – joins two factors (iii) sum– sums out a variable from the factor (iv) normalize – normalizes the factor\n",
    "* Approximate inference using rejection sampling - write a function that selects the value for a variable from a given probability distribution."
   ]
  },
  {
   "cell_type": "markdown",
   "id": "MJT8bYJVCMgb",
   "metadata": {
    "id": "MJT8bYJVCMgb"
   },
   "source": [
    "**Description of a Bayes net** - given as a text file in the following format.\n",
    "\n",
    "$N$\n",
    "\n",
    "$X_1$ parents of $X_1$ separated by space\n",
    "\n",
    "Conditional probability table\n",
    "\n",
    "$X_2$ parents of $X_2$ separated by space\n",
    "\n",
    "Conditional probability table\n",
    "\n",
    "...\n",
    "\n",
    "The first line indicates the number of random variables in the network. Every pair of subsequent consecutive lines give details about a variable, its parents and the conditional probability table. Consider the following example of an input file. \n",
    "\n",
    "3\n",
    "\n",
    "1 2\n",
    "\n",
    "0.8 0.2\n",
    "\n",
    "0.4 0.6\n",
    "\n",
    "3\n",
    "\n",
    "0.2 0.8\n",
    "\n",
    "2\n",
    "\n",
    "0.6 0.4\n",
    "\n",
    "\n",
    "Here, the first line says that there are three random variables in the network. The second line says that the random variable $X_1$ has a single parent $X_2$. The third line says that P($X_1$=true | $X_2$=true) = 0.8 and P($X_1$=false | $X_2$=true) = 0.2. The fourth line says that P($X_1$=true | $X_2$=false) = 0.4 and P($X_1$=false | $X_2$=false) = 0.6. The next two line say that the random variable $X_3$ has no parents and P($X_3$=true) = 0.2, P($X_3$=false) = 0.8. The next two lines say that the random variable $X_2$ has no parents, P($X_2$=true) = 0.6, P($X_2$=false) = 0.4. "
   ]
  },
  {
   "cell_type": "markdown",
   "id": "UT87oB6FFR0h",
   "metadata": {
    "id": "UT87oB6FFR0h"
   },
   "source": [
    "**Description of the Queries** - given as a text file with each line in the following format\n",
    "\n",
    "`technique` `q` `query variables` `e` `evidence variables` \n",
    "\n",
    "where the query/evidence variables are separated by space. For example, if we want to use `variable elimination` to estimate P($X_1$=true,$X_2$=true | $X_3$=false), then the query line is\n",
    "`ve q 1 2 e ~3`. Similarly, if we want to perform the same inference using rejection sampling, then the query is `rs q 1 2 e ~3`. Here, `~` denotes negation. "
   ]
  },
  {
   "cell_type": "markdown",
   "id": "nCcsuVq9it1j",
   "metadata": {
    "id": "nCcsuVq9it1j"
   },
   "source": [
    "**Output** - the output to the queries should be provided in a separate file. For simplicity, assume that in each query, we are only interested in obtaining the probability values instead of the distribution. That is, the output is a probability value, one per line, for every query.\n",
    "\n",
    "Also, investigate the convergence of the probabilities estimated from rejection sampling as a function of the number of  samples generated.  "
   ]
  }
 ],
 "metadata": {
  "colab": {
   "provenance": []
  },
  "kernelspec": {
   "display_name": "Python 3 (ipykernel)",
   "language": "python",
   "name": "python3"
  },
  "language_info": {
   "codemirror_mode": {
    "name": "ipython",
    "version": 3
   },
   "file_extension": ".py",
   "mimetype": "text/x-python",
   "name": "python",
   "nbconvert_exporter": "python",
   "pygments_lexer": "ipython3",
   "version": "3.9.12"
  }
 },
 "nbformat": 4,
 "nbformat_minor": 5
}
